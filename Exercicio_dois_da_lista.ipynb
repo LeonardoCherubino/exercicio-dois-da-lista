{
  "nbformat": 4,
  "nbformat_minor": 0,
  "metadata": {
    "colab": {
      "name": "Exercicio dois da lista.ipynb",
      "provenance": [],
      "authorship_tag": "ABX9TyN0A2FqpIrXwVR4RP9uAeZ5",
      "include_colab_link": true
    },
    "kernelspec": {
      "name": "python3",
      "display_name": "Python 3"
    },
    "language_info": {
      "name": "python"
    }
  },
  "cells": [
    {
      "cell_type": "markdown",
      "metadata": {
        "id": "view-in-github",
        "colab_type": "text"
      },
      "source": [
        "<a href=\"https://colab.research.google.com/github/LeonardoCherubino/exercicio-dois-da-lista/blob/main/Exercicio_dois_da_lista.ipynb\" target=\"_parent\"><img src=\"https://colab.research.google.com/assets/colab-badge.svg\" alt=\"Open In Colab\"/></a>"
      ]
    },
    {
      "cell_type": "code",
      "execution_count": null,
      "metadata": {
        "id": "Ix3kJfvZDkTV"
      },
      "outputs": [],
      "source": [
        ""
      ]
    },
    {
      "cell_type": "markdown",
      "source": [
        "Exercício dois da lista\n",
        "Faça um Programa que peça um número e então mostre a mensagem O número informado foi [número]."
      ],
      "metadata": {
        "id": "kkHkxWMBDl49"
      }
    },
    {
      "cell_type": "code",
      "source": [
        "numero = input('Entre com um número: ')\n",
        "print('O número digitado foi {}'.format(numero))"
      ],
      "metadata": {
        "colab": {
          "base_uri": "https://localhost:8080/"
        },
        "id": "2PCCnrG3DrbF",
        "outputId": "0b693e3a-425d-4982-835f-5b0d239399f2"
      },
      "execution_count": 1,
      "outputs": [
        {
          "output_type": "stream",
          "name": "stdout",
          "text": [
            "Entre com um número13\n",
            "O número digitado foi 13\n"
          ]
        }
      ]
    }
  ]
}